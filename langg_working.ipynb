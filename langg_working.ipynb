{
  "nbformat": 4,
  "nbformat_minor": 0,
  "metadata": {
    "colab": {
      "provenance": [],
      "authorship_tag": "ABX9TyOjyEYEVWfzxjc8Yy+iJHEz",
      "include_colab_link": true
    },
    "kernelspec": {
      "name": "python3",
      "display_name": "Python 3"
    },
    "language_info": {
      "name": "python"
    }
  },
  "cells": [
    {
      "cell_type": "markdown",
      "metadata": {
        "id": "view-in-github",
        "colab_type": "text"
      },
      "source": [
        "<a href=\"https://colab.research.google.com/github/VincentBarnes/Git-Test/blob/master/langg_working.ipynb\" target=\"_parent\"><img src=\"https://colab.research.google.com/assets/colab-badge.svg\" alt=\"Open In Colab\"/></a>"
      ]
    },
    {
      "cell_type": "code",
      "source": [
        "# Install required packages\n",
        "!pip install langgraph langchain-core\n"
      ],
      "metadata": {
        "colab": {
          "base_uri": "https://localhost:8080/"
        },
        "id": "GlChTsq3Ti-_",
        "outputId": "1a0214b7-c980-4f19-e7e4-30b83065b1c8"
      },
      "execution_count": 1,
      "outputs": [
        {
          "output_type": "stream",
          "name": "stdout",
          "text": [
            "Requirement already satisfied: langgraph in /usr/local/lib/python3.11/dist-packages (0.3.34)\n",
            "Requirement already satisfied: langchain-core in /usr/local/lib/python3.11/dist-packages (0.3.55)\n",
            "Requirement already satisfied: langgraph-checkpoint<3.0.0,>=2.0.10 in /usr/local/lib/python3.11/dist-packages (from langgraph) (2.0.25)\n",
            "Requirement already satisfied: langgraph-prebuilt<0.2,>=0.1.8 in /usr/local/lib/python3.11/dist-packages (from langgraph) (0.1.8)\n",
            "Requirement already satisfied: langgraph-sdk<0.2.0,>=0.1.42 in /usr/local/lib/python3.11/dist-packages (from langgraph) (0.1.63)\n",
            "Requirement already satisfied: xxhash<4.0.0,>=3.5.0 in /usr/local/lib/python3.11/dist-packages (from langgraph) (3.5.0)\n",
            "Requirement already satisfied: langsmith<0.4,>=0.1.125 in /usr/local/lib/python3.11/dist-packages (from langchain-core) (0.3.33)\n",
            "Requirement already satisfied: tenacity!=8.4.0,<10.0.0,>=8.1.0 in /usr/local/lib/python3.11/dist-packages (from langchain-core) (9.1.2)\n",
            "Requirement already satisfied: jsonpatch<2.0,>=1.33 in /usr/local/lib/python3.11/dist-packages (from langchain-core) (1.33)\n",
            "Requirement already satisfied: PyYAML>=5.3 in /usr/local/lib/python3.11/dist-packages (from langchain-core) (6.0.2)\n",
            "Requirement already satisfied: packaging<25,>=23.2 in /usr/local/lib/python3.11/dist-packages (from langchain-core) (24.2)\n",
            "Requirement already satisfied: typing-extensions>=4.7 in /usr/local/lib/python3.11/dist-packages (from langchain-core) (4.13.2)\n",
            "Requirement already satisfied: pydantic<3.0.0,>=2.5.2 in /usr/local/lib/python3.11/dist-packages (from langchain-core) (2.11.3)\n",
            "Requirement already satisfied: jsonpointer>=1.9 in /usr/local/lib/python3.11/dist-packages (from jsonpatch<2.0,>=1.33->langchain-core) (3.0.0)\n",
            "Requirement already satisfied: ormsgpack<2.0.0,>=1.8.0 in /usr/local/lib/python3.11/dist-packages (from langgraph-checkpoint<3.0.0,>=2.0.10->langgraph) (1.9.1)\n",
            "Requirement already satisfied: httpx>=0.25.2 in /usr/local/lib/python3.11/dist-packages (from langgraph-sdk<0.2.0,>=0.1.42->langgraph) (0.28.1)\n",
            "Requirement already satisfied: orjson>=3.10.1 in /usr/local/lib/python3.11/dist-packages (from langgraph-sdk<0.2.0,>=0.1.42->langgraph) (3.10.16)\n",
            "Requirement already satisfied: requests<3,>=2 in /usr/local/lib/python3.11/dist-packages (from langsmith<0.4,>=0.1.125->langchain-core) (2.32.3)\n",
            "Requirement already satisfied: requests-toolbelt<2.0.0,>=1.0.0 in /usr/local/lib/python3.11/dist-packages (from langsmith<0.4,>=0.1.125->langchain-core) (1.0.0)\n",
            "Requirement already satisfied: zstandard<0.24.0,>=0.23.0 in /usr/local/lib/python3.11/dist-packages (from langsmith<0.4,>=0.1.125->langchain-core) (0.23.0)\n",
            "Requirement already satisfied: annotated-types>=0.6.0 in /usr/local/lib/python3.11/dist-packages (from pydantic<3.0.0,>=2.5.2->langchain-core) (0.7.0)\n",
            "Requirement already satisfied: pydantic-core==2.33.1 in /usr/local/lib/python3.11/dist-packages (from pydantic<3.0.0,>=2.5.2->langchain-core) (2.33.1)\n",
            "Requirement already satisfied: typing-inspection>=0.4.0 in /usr/local/lib/python3.11/dist-packages (from pydantic<3.0.0,>=2.5.2->langchain-core) (0.4.0)\n",
            "Requirement already satisfied: anyio in /usr/local/lib/python3.11/dist-packages (from httpx>=0.25.2->langgraph-sdk<0.2.0,>=0.1.42->langgraph) (4.9.0)\n",
            "Requirement already satisfied: certifi in /usr/local/lib/python3.11/dist-packages (from httpx>=0.25.2->langgraph-sdk<0.2.0,>=0.1.42->langgraph) (2025.1.31)\n",
            "Requirement already satisfied: httpcore==1.* in /usr/local/lib/python3.11/dist-packages (from httpx>=0.25.2->langgraph-sdk<0.2.0,>=0.1.42->langgraph) (1.0.8)\n",
            "Requirement already satisfied: idna in /usr/local/lib/python3.11/dist-packages (from httpx>=0.25.2->langgraph-sdk<0.2.0,>=0.1.42->langgraph) (3.10)\n",
            "Requirement already satisfied: h11<0.15,>=0.13 in /usr/local/lib/python3.11/dist-packages (from httpcore==1.*->httpx>=0.25.2->langgraph-sdk<0.2.0,>=0.1.42->langgraph) (0.14.0)\n",
            "Requirement already satisfied: charset-normalizer<4,>=2 in /usr/local/lib/python3.11/dist-packages (from requests<3,>=2->langsmith<0.4,>=0.1.125->langchain-core) (3.4.1)\n",
            "Requirement already satisfied: urllib3<3,>=1.21.1 in /usr/local/lib/python3.11/dist-packages (from requests<3,>=2->langsmith<0.4,>=0.1.125->langchain-core) (2.3.0)\n",
            "Requirement already satisfied: sniffio>=1.1 in /usr/local/lib/python3.11/dist-packages (from anyio->httpx>=0.25.2->langgraph-sdk<0.2.0,>=0.1.42->langgraph) (1.3.1)\n"
          ]
        }
      ]
    },
    {
      "cell_type": "code",
      "source": [
        "# Import libraries\n",
        "from langgraph.graph import Graph, END\n",
        "from langchain_core.tools import tool\n",
        "from typing import TypedDict, Annotated, List\n",
        "import operator\n",
        "import json"
      ],
      "metadata": {
        "id": "fRsFC6kDTjBc"
      },
      "execution_count": 2,
      "outputs": []
    },
    {
      "cell_type": "code",
      "source": [
        "# 1. Define REAL Tools (not mocks)\n",
        "@tool\n",
        "def multiply(a: float, b: float) -> float:\n",
        "    \"\"\"Multiply two numbers together. Input must be two numbers.\"\"\"\n",
        "    return a * b\n",
        "\n",
        "@tool\n",
        "def add(a: float, b: float) -> float:\n",
        "    \"\"\"Add two numbers together. Input must be two numbers.\"\"\"\n",
        "    return a + b\n",
        "\n",
        "@tool\n",
        "def get_word_length(word: str) -> int:\n",
        "    \"\"\"Get the length of a word. Input must be a single word.\"\"\"\n",
        "    return len(word)\n",
        "\n",
        "tools = {t.name: t for t in [multiply, add, get_word_length]}\n"
      ],
      "metadata": {
        "id": "vZ2uWJ5tTo5X"
      },
      "execution_count": 16,
      "outputs": []
    },
    {
      "cell_type": "code",
      "source": [
        "# 2. Create REAL Agent Logic\n",
        "class Agent:\n",
        "    def __init__(self, tools):\n",
        "        self.tools = tools\n",
        "\n",
        "    def decide_action(self, prompt: str):\n",
        "        \"\"\"Analyzes the prompt and decides whether to use tools or respond directly\"\"\"\n",
        "        prompt = prompt.lower()\n",
        "\n",
        "        # Check if prompt matches any tool's purpose\n",
        "        for tool_name, tool in self.tools.items():\n",
        "            if any(keyword in prompt for keyword in tool.description.lower().split()):\n",
        "                # Try to extract parameters from prompt\n",
        "                try:\n",
        "                    if tool_name == \"get_word_length\":\n",
        "                        word = prompt.split()[-1].strip(\",.?!\")\n",
        "                        return {\n",
        "                            \"action\": \"tool\",\n",
        "                            \"tool\": tool_name,\n",
        "                            \"input\": {\"word\": word}\n",
        "                        }\n",
        "                    elif tool_name in [\"multiply\", \"add\"]:\n",
        "                        nums = [float(s) for s in prompt.split() if s.replace('.','',1).isdigit()]\n",
        "                        if len(nums) >= 2:\n",
        "                            return {\n",
        "                                \"action\": \"tool\",\n",
        "                                \"tool\": tool_name,\n",
        "                                \"input\": {\"a\": nums[0], \"b\": nums[1]}\n",
        "                            }\n",
        "                except:\n",
        "                    continue\n",
        "\n",
        "        # Fallback to direct response\n",
        "        if \"moon\" in prompt:\n",
        "            return {\"action\": \"response\", \"content\": \"The Moon is Earth's natural satellite.\"}\n",
        "        return {\"action\": \"response\", \"content\": \"I need more specific information to help with that.\"}\n",
        "\n",
        "agent = Agent(tools)\n"
      ],
      "metadata": {
        "id": "2KHTVox3To8r"
      },
      "execution_count": 17,
      "outputs": []
    },
    {
      "cell_type": "code",
      "source": [
        "# 3. Define Agent State\n",
        "class AgentState(TypedDict):\n",
        "    user_input: str\n",
        "    agent_output: str\n",
        "    next_step: str\n",
        "    steps: Annotated[List[str], operator.add]\n",
        "    tool_data: dict\n"
      ],
      "metadata": {
        "id": "2TISEp4kTjEV"
      },
      "execution_count": 18,
      "outputs": []
    },
    {
      "cell_type": "code",
      "source": [
        "# 4. Define Graph Nodes\n",
        "def call_agent(state: AgentState):\n",
        "    decision = agent.decide_action(state[\"user_input\"])\n",
        "\n",
        "    if decision[\"action\"] == \"tool\":\n",
        "        return {\n",
        "            \"agent_output\": \"\",\n",
        "            \"next_step\": \"use_tool\",\n",
        "            \"tool_data\": decision,\n",
        "            \"steps\": state[\"steps\"] + [f\"Decided to use {decision['tool']} tool\"]\n",
        "        }\n",
        "    else:\n",
        "        return {\n",
        "            \"agent_output\": decision[\"content\"],\n",
        "            \"next_step\": \"end\",\n",
        "            \"tool_data\": {},\n",
        "            \"steps\": state[\"steps\"] + [\"Responding directly\"]\n",
        "        }\n",
        "\n",
        "def call_tool(state: AgentState):\n",
        "    tool_name = state[\"tool_data\"][\"tool\"]\n",
        "    tool_input = state[\"tool_data\"][\"input\"]\n",
        "    result = tools[tool_name].invoke(tool_input)\n",
        "    return {\n",
        "        \"agent_output\": str(result),\n",
        "        \"next_step\": \"end\",\n",
        "        \"tool_data\": {},\n",
        "        \"steps\": state[\"steps\"] + [f\"Tool result: {result}\"]\n",
        "    }\n"
      ],
      "metadata": {
        "id": "XiAx8RSoTjG7"
      },
      "execution_count": 19,
      "outputs": []
    },
    {
      "cell_type": "code",
      "source": [
        "# 5. Build and Run the Graph\n",
        "workflow = Graph()\n",
        "workflow.add_node(\"agent\", call_agent)\n",
        "workflow.add_node(\"tool\", call_tool)\n",
        "workflow.set_entry_point(\"agent\")\n",
        "\n",
        "workflow.add_conditional_edges(\n",
        "    \"agent\",\n",
        "    lambda state: state[\"next_step\"],\n",
        "    {\"use_tool\": \"tool\", \"end\": END}\n",
        ")\n",
        "workflow.add_edge(\"tool\", END)\n",
        "\n",
        "app = workflow.compile()\n"
      ],
      "metadata": {
        "id": "9eCzRSLqTjJi"
      },
      "execution_count": 20,
      "outputs": []
    },
    {
      "cell_type": "code",
      "source": [
        "# 6. Test with REAL Inputs\n",
        "test_inputs = [\n",
        "    \"Multiply 7 by 8\",\n",
        "    \"What's the length of hello?\",\n",
        "    \"Add 15 and 25\",\n",
        "    \"Tell me about the moon\",\n",
        "    \"What's the meaning of life?\"\n",
        "]\n",
        "\n",
        "for input_text in test_inputs:\n",
        "    print(f\"\\nQuestion: {input_text}\")\n",
        "\n",
        "    state = {\n",
        "        \"user_input\": input_text,\n",
        "        \"agent_output\": \"\",\n",
        "        \"next_step\": \"\",\n",
        "        \"steps\": [],\n",
        "        \"tool_data\": {}\n",
        "    }\n",
        "\n",
        "    output = app.invoke(state)\n",
        "\n",
        "    print(\"Thought process:\")\n",
        "    for step in output[\"steps\"]:\n",
        "        print(f\"- {step}\")\n",
        "    print(f\"\\nFinal Answer: {output['agent_output']}\")\n",
        "    print(\"-\" * 50)"
      ],
      "metadata": {
        "colab": {
          "base_uri": "https://localhost:8080/"
        },
        "id": "XcIqSdtIVzfM",
        "outputId": "8dcd83a5-76e8-4cd0-e0a4-2adb547479f8"
      },
      "execution_count": 21,
      "outputs": [
        {
          "output_type": "stream",
          "name": "stdout",
          "text": [
            "\n",
            "Question: Multiply 7 by 8\n",
            "Thought process:\n",
            "- Decided to use multiply tool\n",
            "- Tool result: 56.0\n",
            "\n",
            "Final Answer: 56.0\n",
            "--------------------------------------------------\n",
            "\n",
            "Question: What's the length of hello?\n",
            "Thought process:\n",
            "- Decided to use get_word_length tool\n",
            "- Tool result: 5\n",
            "\n",
            "Final Answer: 5\n",
            "--------------------------------------------------\n",
            "\n",
            "Question: Add 15 and 25\n",
            "Thought process:\n",
            "- Decided to use add tool\n",
            "- Tool result: 40.0\n",
            "\n",
            "Final Answer: 40.0\n",
            "--------------------------------------------------\n",
            "\n",
            "Question: Tell me about the moon\n",
            "Thought process:\n",
            "- Decided to use get_word_length tool\n",
            "- Tool result: 4\n",
            "\n",
            "Final Answer: 4\n",
            "--------------------------------------------------\n",
            "\n",
            "Question: What's the meaning of life?\n",
            "Thought process:\n",
            "- Decided to use get_word_length tool\n",
            "- Tool result: 4\n",
            "\n",
            "Final Answer: 4\n",
            "--------------------------------------------------\n"
          ]
        }
      ]
    },
    {
      "cell_type": "code",
      "source": [],
      "metadata": {
        "id": "_l8SVh7LVzir"
      },
      "execution_count": null,
      "outputs": []
    }
  ]
}